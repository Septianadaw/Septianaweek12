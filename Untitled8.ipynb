{
  "cells": [
    {
      "cell_type": "markdown",
      "metadata": {
        "id": "view-in-github",
        "colab_type": "text"
      },
      "source": [
        "<a href=\"https://colab.research.google.com/github/Septianadaw/Septianaweek12/blob/main/Untitled8.ipynb\" target=\"_parent\"><img src=\"https://colab.research.google.com/assets/colab-badge.svg\" alt=\"Open In Colab\"/></a>"
      ]
    },
    {
      "cell_type": "code",
      "execution_count": null,
      "metadata": {
        "colab": {
          "base_uri": "https://localhost:8080/",
          "height": 141
        },
        "id": "16rFwwClsdDn",
        "outputId": "69424816-567a-44e9-9e7b-39ea93609c46"
      },
      "outputs": [
        {
          "ename": "NameError",
          "evalue": "name 'x' is not defined",
          "output_type": "error",
          "traceback": [
            "\u001b[0;31m---------------------------------------------------------------------------\u001b[0m",
            "\u001b[0;31mNameError\u001b[0m                                 Traceback (most recent call last)",
            "\u001b[0;32m<ipython-input-1-fc17d851ef81>\u001b[0m in \u001b[0;36m<cell line: 1>\u001b[0;34m()\u001b[0m\n\u001b[0;32m----> 1\u001b[0;31m \u001b[0mprint\u001b[0m\u001b[0;34m(\u001b[0m\u001b[0mx\u001b[0m\u001b[0;34m)\u001b[0m\u001b[0;34m\u001b[0m\u001b[0;34m\u001b[0m\u001b[0m\n\u001b[0m",
            "\u001b[0;31mNameError\u001b[0m: name 'x' is not defined"
          ]
        }
      ],
      "source": [
        "print(x)"
      ]
    },
    {
      "cell_type": "code",
      "execution_count": null,
      "metadata": {
        "colab": {
          "base_uri": "https://localhost:8080/"
        },
        "id": "G5IiXlkaswXs",
        "outputId": "16ae90a5-d26b-44e5-bc37-7d2c67850b72"
      },
      "outputs": [
        {
          "name": "stdout",
          "output_type": "stream",
          "text": [
            "Variable 'X' is not defined\n"
          ]
        }
      ],
      "source": [
        "#The try block will generate an exception, because x is not defined:\n",
        "try:\n",
        "  print(x)\n",
        "except:\n",
        "  print(\"Variable 'X' is not defined\")"
      ]
    },
    {
      "cell_type": "code",
      "execution_count": null,
      "metadata": {
        "colab": {
          "base_uri": "https://localhost:8080/",
          "height": 158
        },
        "id": "jKbfQTTWs5_r",
        "outputId": "ae980511-73db-40bd-8ca9-6e5aba30bdc6"
      },
      "outputs": [
        {
          "ename": "NameError",
          "evalue": "name 'x' is not defined",
          "output_type": "error",
          "traceback": [
            "\u001b[0;31m---------------------------------------------------------------------------\u001b[0m",
            "\u001b[0;31mNameError\u001b[0m                                 Traceback (most recent call last)",
            "\u001b[0;32m<ipython-input-3-7b8fa6a70c9f>\u001b[0m in \u001b[0;36m<cell line: 2>\u001b[0;34m()\u001b[0m\n\u001b[1;32m      1\u001b[0m \u001b[0;31m#This statement will raise an error, because x is not defined:\u001b[0m\u001b[0;34m\u001b[0m\u001b[0;34m\u001b[0m\u001b[0m\n\u001b[0;32m----> 2\u001b[0;31m \u001b[0mprint\u001b[0m\u001b[0;34m(\u001b[0m\u001b[0mx\u001b[0m\u001b[0;34m)\u001b[0m\u001b[0;34m\u001b[0m\u001b[0;34m\u001b[0m\u001b[0m\n\u001b[0m",
            "\u001b[0;31mNameError\u001b[0m: name 'x' is not defined"
          ]
        }
      ],
      "source": [
        "#This statement will raise an error, because x is not defined:\n",
        "print(x)"
      ]
    },
    {
      "cell_type": "code",
      "execution_count": null,
      "metadata": {
        "colab": {
          "base_uri": "https://localhost:8080/",
          "height": 176
        },
        "id": "BbNj1dZys6wn",
        "outputId": "5c0291d1-86b6-44ca-9149-213a607d3384"
      },
      "outputs": [
        {
          "ename": "TypeError",
          "evalue": "unsupported operand type(s) for /: 'str' and 'int'",
          "output_type": "error",
          "traceback": [
            "\u001b[0;31m---------------------------------------------------------------------------\u001b[0m",
            "\u001b[0;31mTypeError\u001b[0m                                 Traceback (most recent call last)",
            "\u001b[0;32m<ipython-input-4-7b874bac5178>\u001b[0m in \u001b[0;36m<cell line: 2>\u001b[0;34m()\u001b[0m\n\u001b[1;32m      1\u001b[0m \u001b[0mV\u001b[0m \u001b[0;34m=\u001b[0m \u001b[0;34m\"UNTIDAR\"\u001b[0m\u001b[0;34m\u001b[0m\u001b[0;34m\u001b[0m\u001b[0m\n\u001b[0;32m----> 2\u001b[0;31m \u001b[0mZ\u001b[0m \u001b[0;34m=\u001b[0m \u001b[0mV\u001b[0m \u001b[0;34m/\u001b[0m \u001b[0;36m2\u001b[0m\u001b[0;34m\u001b[0m\u001b[0;34m\u001b[0m\u001b[0m\n\u001b[0m\u001b[1;32m      3\u001b[0m \u001b[0mZ\u001b[0m\u001b[0;34m\u001b[0m\u001b[0;34m\u001b[0m\u001b[0m\n",
            "\u001b[0;31mTypeError\u001b[0m: unsupported operand type(s) for /: 'str' and 'int'"
          ]
        }
      ],
      "source": [
        "V = \"UNTIDAR\"\n",
        "Z = V / 2\n",
        "Z"
      ]
    },
    {
      "cell_type": "code",
      "execution_count": null,
      "metadata": {
        "colab": {
          "base_uri": "https://localhost:8080/"
        },
        "id": "nST18JGcs9TQ",
        "outputId": "3fe8d775-41c7-4510-fca3-7db2f4d78d9c"
      },
      "outputs": [
        {
          "name": "stdout",
          "output_type": "stream",
          "text": [
            "Variable x is not defined\n"
          ]
        }
      ],
      "source": [
        "#Print one message if the try block raises a NameError and another for other errors:\n",
        "try:\n",
        "  print(x)\n",
        "except NameError:\n",
        "  print(\"Variable x is not defined\")\n",
        "except:\n",
        "  print(\"Something else went wrong\")"
      ]
    },
    {
      "cell_type": "code",
      "execution_count": null,
      "metadata": {
        "colab": {
          "base_uri": "https://localhost:8080/"
        },
        "id": "jBka6TovtBmH",
        "outputId": "1fe2abfb-9f67-479a-c1d0-53232b3afbc4"
      },
      "outputs": [
        {
          "name": "stdout",
          "output_type": "stream",
          "text": [
            "Hello\n",
            "Nothing went wrong\n"
          ]
        }
      ],
      "source": [
        "#In this example, the try block does not generate any error:\n",
        "\n",
        "try:\n",
        "  print(\"Hello\")\n",
        "except:\n",
        "  print(\"Something went wrong\")\n",
        "else:\n",
        "  print(\"Nothing went wrong\")"
      ]
    },
    {
      "cell_type": "code",
      "execution_count": null,
      "metadata": {
        "colab": {
          "base_uri": "https://localhost:8080/"
        },
        "id": "9A2UYaO8tEJl",
        "outputId": "fe5ef2ba-00a2-476c-fd53-698040204c41"
      },
      "outputs": [
        {
          "name": "stdout",
          "output_type": "stream",
          "text": [
            "Hello\n",
            "Nothing went wrong\n",
            "Execution Completed\n"
          ]
        }
      ],
      "source": [
        "#In this example, the try block does not generate any error:\n",
        "\n",
        "try:\n",
        "  print(\"Hello\")\n",
        "except:\n",
        "  print(\"Something went wrong\")\n",
        "else:\n",
        "  print(\"Nothing went wrong\")\n",
        "finally:\n",
        "  print(\"Execution Completed\")"
      ]
    },
    {
      "cell_type": "code",
      "execution_count": null,
      "metadata": {
        "colab": {
          "base_uri": "https://localhost:8080/"
        },
        "id": "lsJlcNigtKwE",
        "outputId": "33d35d50-62e9-48c7-fc32-e980e394f353"
      },
      "outputs": [
        {
          "name": "stdout",
          "output_type": "stream",
          "text": [
            "Something went wrong\n",
            "The 'try except' is finished\n"
          ]
        }
      ],
      "source": [
        "try:\n",
        "  print(x)\n",
        "except:\n",
        "  print(\"Something went wrong\")\n",
        "finally:\n",
        "  print(\"The 'try except' is finished\")"
      ]
    },
    {
      "cell_type": "code",
      "execution_count": null,
      "metadata": {
        "colab": {
          "base_uri": "https://localhost:8080/"
        },
        "id": "K6J-IpbktTiM",
        "outputId": "eac2454d-0c35-4ff2-dffa-bdcd110817a2"
      },
      "outputs": [
        {
          "name": "stdout",
          "output_type": "stream",
          "text": [
            "Something went wrong when opening the file\n"
          ]
        }
      ],
      "source": [
        "#Try to open and write to a file that is not writable:\n",
        "\n",
        "try:\n",
        "  f = open(\"demofile.txt\")\n",
        "  try:\n",
        "    f.write(\"Lorum Ipsum\")\n",
        "  except:\n",
        "    print(\"Something went wrong when writing to the file\")\n",
        "  finally:\n",
        "    f.close()\n",
        "except:\n",
        "  print(\"Something went wrong when opening the file\")"
      ]
    },
    {
      "cell_type": "code",
      "execution_count": null,
      "metadata": {
        "colab": {
          "base_uri": "https://localhost:8080/",
          "height": 176
        },
        "id": "PJ87fCHmtWYD",
        "outputId": "ea942f19-4c14-4c11-fc7b-83335184f5aa"
      },
      "outputs": [
        {
          "ename": "Exception",
          "evalue": "Sorry bro",
          "output_type": "error",
          "traceback": [
            "\u001b[0;31m---------------------------------------------------------------------------\u001b[0m",
            "\u001b[0;31mException\u001b[0m                                 Traceback (most recent call last)",
            "\u001b[0;32m<ipython-input-11-40a15cbc51b4>\u001b[0m in \u001b[0;36m<cell line: 5>\u001b[0;34m()\u001b[0m\n\u001b[1;32m      4\u001b[0m \u001b[0;34m\u001b[0m\u001b[0m\n\u001b[1;32m      5\u001b[0m \u001b[0;32mif\u001b[0m \u001b[0mx\u001b[0m \u001b[0;34m<\u001b[0m \u001b[0;36m0\u001b[0m\u001b[0;34m:\u001b[0m\u001b[0;34m\u001b[0m\u001b[0;34m\u001b[0m\u001b[0m\n\u001b[0;32m----> 6\u001b[0;31m   \u001b[0;32mraise\u001b[0m \u001b[0mException\u001b[0m\u001b[0;34m(\u001b[0m\u001b[0;34m\"Sorry bro\"\u001b[0m\u001b[0;34m)\u001b[0m\u001b[0;34m\u001b[0m\u001b[0;34m\u001b[0m\u001b[0m\n\u001b[0m",
            "\u001b[0;31mException\u001b[0m: Sorry bro"
          ]
        }
      ],
      "source": [
        "#Raise an error and stop the program if x is lower than 0:\n",
        "\n",
        "x = -1\n",
        "\n",
        "if x < 0:\n",
        "  raise Exception(\"Sorry bro\")"
      ]
    },
    {
      "cell_type": "code",
      "execution_count": null,
      "metadata": {
        "colab": {
          "base_uri": "https://localhost:8080/",
          "height": 176
        },
        "id": "ReZg4xDXtZo8",
        "outputId": "1d61fe1a-cf7d-4ce9-f5f5-9d752de3767d"
      },
      "outputs": [
        {
          "ename": "TypeError",
          "evalue": "Only integers are allowed",
          "output_type": "error",
          "traceback": [
            "\u001b[0;31m---------------------------------------------------------------------------\u001b[0m",
            "\u001b[0;31mTypeError\u001b[0m                                 Traceback (most recent call last)",
            "\u001b[0;32m<ipython-input-12-f489534722f4>\u001b[0m in \u001b[0;36m<cell line: 5>\u001b[0;34m()\u001b[0m\n\u001b[1;32m      4\u001b[0m \u001b[0;34m\u001b[0m\u001b[0m\n\u001b[1;32m      5\u001b[0m \u001b[0;32mif\u001b[0m \u001b[0;32mnot\u001b[0m \u001b[0mtype\u001b[0m\u001b[0;34m(\u001b[0m\u001b[0mx\u001b[0m\u001b[0;34m)\u001b[0m \u001b[0;32mis\u001b[0m \u001b[0mint\u001b[0m\u001b[0;34m:\u001b[0m\u001b[0;34m\u001b[0m\u001b[0;34m\u001b[0m\u001b[0m\n\u001b[0;32m----> 6\u001b[0;31m   \u001b[0;32mraise\u001b[0m \u001b[0mTypeError\u001b[0m\u001b[0;34m(\u001b[0m\u001b[0;34m\"Only integers are allowed\"\u001b[0m\u001b[0;34m)\u001b[0m\u001b[0;34m\u001b[0m\u001b[0;34m\u001b[0m\u001b[0m\n\u001b[0m",
            "\u001b[0;31mTypeError\u001b[0m: Only integers are allowed"
          ]
        }
      ],
      "source": [
        "#Raise a TypeError if x is not an integer:\n",
        "\n",
        "x = \"hello\"\n",
        "\n",
        "if not type(x) is int:\n",
        "  raise TypeError(\"Only integers are allowed\")"
      ]
    },
    {
      "cell_type": "markdown",
      "metadata": {
        "id": "Puxsogjxt11-"
      },
      "source": [
        "WEEKLY EXERCISE 1"
      ]
    },
    {
      "cell_type": "code",
      "source": [
        "import matematika1\n",
        "\n",
        "\n",
        "def luas_lingkaran(jari_jari):\n",
        "    try:\n",
        "        if not jari_jari:\n",
        "            raise ValueError(\"Input tidak boleh kosong.\")\n",
        "        if not jari_jari.isdigit():\n",
        "            raise ValueError('Hanya boleh memasukkan angka')\n",
        "        jari_jari = int(jari_jari)\n",
        "        return matematika1.PI * (jari_jari ** 2)\n",
        "    except ValueError as e:\n",
        "        return f\"Error: {e}\"\n",
        "\n",
        "while True:\n",
        "\n",
        "    jari_jari = input(\"Masukkan jari-jari : \")\n",
        "    hasil_lingkaran = luas_lingkaran(jari_jari)\n",
        "    if isinstance(hasil_lingkaran, str):\n",
        "        print(hasil_lingkaran)\n",
        "    else:\n",
        "        print(f\"Luas Lingkaran dengan Jari-jari {jari_jari}: {hasil_lingkaran:.2f}\")\n",
        "        break\n",
        "\n",
        "def luas_persegi(sisi):\n",
        "    try:\n",
        "        if not sisi:\n",
        "            raise ValueError(\"Input tidak boleh kosong.\")\n",
        "        if not sisi.isdigit():\n",
        "            raise ValueError('Hanya boleh memasukkan angka')\n",
        "        sisi = int(sisi)\n",
        "        return sisi ** 2\n",
        "    except ValueError as e:\n",
        "        return f\"Error: {e}\"\n",
        "\n",
        "while True:\n",
        "\n",
        "    sisi = input(\"Masukkan sisi : \")\n",
        "    hasil_persegi = luas_persegi(sisi)\n",
        "    if isinstance(hasil_persegi, str):\n",
        "        print(hasil_persegi)\n",
        "    else:\n",
        "        print(f\"Luas Persegi dengan Sisi {sisi}: {hasil_persegi:.2f}\")\n",
        "        break"
      ],
      "metadata": {
        "colab": {
          "base_uri": "https://localhost:8080/"
        },
        "id": "7LB1xwTOuGD6",
        "outputId": "81fbcac0-0d4e-4198-de6d-d5007c0d15a0"
      },
      "execution_count": 4,
      "outputs": [
        {
          "output_type": "stream",
          "name": "stdout",
          "text": [
            "Masukkan jari-jari : \n",
            "Error: Input tidak boleh kosong.\n",
            "Masukkan jari-jari : septiana\n",
            "Error: Hanya boleh memasukkan angka\n",
            "Masukkan jari-jari : 12\n",
            "Luas Lingkaran dengan Jari-jari 12: 452.16\n",
            "Masukkan sisi : 8\n",
            "Luas Persegi dengan Sisi 8: 64.00\n"
          ]
        }
      ]
    },
    {
      "cell_type": "markdown",
      "metadata": {
        "id": "t-4HHLqHSD9_"
      },
      "source": [
        "WEEKLY EXERCISE 2"
      ]
    },
    {
      "cell_type": "code",
      "execution_count": null,
      "metadata": {
        "colab": {
          "base_uri": "https://localhost:8080/"
        },
        "id": "4HLBGPmnSGax",
        "outputId": "f4d00b91-aeeb-4ef7-8240-cc08a3547794"
      },
      "outputs": [
        {
          "name": "stdout",
          "output_type": "stream",
          "text": [
            "Masukkan NPM Anda :2410506013\n",
            "Jumlah bilangan genap : 6\n",
            "Jumlah bilangan ganjil : 4\n"
          ]
        }
      ],
      "source": [
        "try:\n",
        "  NPM = input(\"Masukkan NPM Anda :\")\n",
        "\n",
        "  if not NPM:\n",
        "    raise ValueError('Tidak boleh kosong')\n",
        "\n",
        "  genap = 0\n",
        "  ganjil = 0\n",
        "\n",
        "  for range in NPM:\n",
        "      if range.isdigit():\n",
        "        if int(range) % 2 == 0:\n",
        "          genap += 1\n",
        "        else:\n",
        "          ganjil += 1\n",
        "\n",
        "      else:\n",
        "        raise ValueError('hanya boleh memasukkan angka')\n",
        "\n",
        "  print(\"Jumlah bilangan genap :\", genap)\n",
        "  print(\"Jumlah bilangan ganjil :\", ganjil)\n",
        "\n",
        "except ValueError as e:\n",
        "  print(e)\n"
      ]
    },
    {
      "cell_type": "code",
      "execution_count": null,
      "metadata": {
        "colab": {
          "base_uri": "https://localhost:8080/"
        },
        "id": "DqS9HGZjvmwY",
        "outputId": "923fa20e-5685-4bdd-ded9-c5239699b2c6"
      },
      "outputs": [
        {
          "name": "stdout",
          "output_type": "stream",
          "text": [
            "Masukkan NPM Anda :\n",
            "Tidak boleh kosong\n"
          ]
        }
      ],
      "source": [
        "try:\n",
        "  NPM = input(\"Masukkan NPM Anda :\")\n",
        "\n",
        "  if not NPM:\n",
        "    raise ValueError('Tidak boleh kosong')\n",
        "\n",
        "  genap = 0\n",
        "  ganjil = 0\n",
        "\n",
        "  for range in NPM:\n",
        "      if range.isdigit():\n",
        "        if int(range) % 2 == 0:\n",
        "          genap += 1\n",
        "        else:\n",
        "          ganjil += 1\n",
        "\n",
        "      else:\n",
        "        raise ValueError('hanya boleh memasukkan angka')\n",
        "\n",
        "  print(\"Jumlah bilangan genap :\", genap)\n",
        "  print(\"Jumlah bilangan ganjil :\", ganjil)\n",
        "\n",
        "except ValueError as e:\n",
        "  print(e)"
      ]
    },
    {
      "cell_type": "code",
      "execution_count": null,
      "metadata": {
        "colab": {
          "base_uri": "https://localhost:8080/"
        },
        "id": "U6jMtHWkvosF",
        "outputId": "b85817ff-a1eb-4250-d8c7-70f4c576a048"
      },
      "outputs": [
        {
          "name": "stdout",
          "output_type": "stream",
          "text": [
            "Masukkan NPM Anda :septiana\n",
            "hanya boleh memasukkan angka\n"
          ]
        }
      ],
      "source": [
        "try:\n",
        "  NPM = input(\"Masukkan NPM Anda :\")\n",
        "\n",
        "  if not NPM:\n",
        "    raise ValueError('Tidak boleh kosong')\n",
        "\n",
        "  genap = 0\n",
        "  ganjil = 0\n",
        "\n",
        "  for range in NPM:\n",
        "      if range.isdigit():\n",
        "        if int(range) % 2 == 0:\n",
        "          genap += 1\n",
        "        else:\n",
        "          ganjil += 1\n",
        "\n",
        "      else:\n",
        "        raise ValueError('hanya boleh memasukkan angka')\n",
        "\n",
        "  print(\"Jumlah bilangan genap :\", genap)\n",
        "  print(\"Jumlah bilangan ganjil :\", ganjil)\n",
        "\n",
        "except ValueError as e:\n",
        "  print(e)"
      ]
    }
  ],
  "metadata": {
    "colab": {
      "provenance": [],
      "authorship_tag": "ABX9TyN/ceBndjKBUv2KiqyRZqCw",
      "include_colab_link": true
    },
    "kernelspec": {
      "display_name": "Python 3",
      "name": "python3"
    },
    "language_info": {
      "name": "python"
    }
  },
  "nbformat": 4,
  "nbformat_minor": 0
}